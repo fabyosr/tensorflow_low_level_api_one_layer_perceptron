{
 "cells": [
  {
   "cell_type": "markdown",
   "metadata": {},
   "source": [
    "# 0 - IMPORTS"
   ]
  },
  {
   "cell_type": "code",
   "execution_count": 3,
   "metadata": {
    "ExecuteTime": {
     "end_time": "2020-12-06T18:09:26.655953Z",
     "start_time": "2020-12-06T18:09:26.651771Z"
    }
   },
   "outputs": [],
   "source": [
    "import tensorflow as tf\n",
    "import numpy as np\n",
    "import warnings\n",
    "\n",
    "\n",
    "warnings.filterwarnings('ignore')"
   ]
  },
  {
   "cell_type": "markdown",
   "metadata": {},
   "source": [
    "# 1 - CREATE X, y VARIABLES"
   ]
  },
  {
   "cell_type": "markdown",
   "metadata": {},
   "source": [
    " X (in layer) and y (out layer) | One Layer Perceptron\n",
    ":-:|:-:\n",
    "![x_and_y](img/x_and_y.png) | ![x_and_y](img/1_layer_perceptron.png)"
   ]
  },
  {
   "cell_type": "code",
   "execution_count": 4,
   "metadata": {
    "ExecuteTime": {
     "end_time": "2020-12-06T18:09:30.170172Z",
     "start_time": "2020-12-06T18:09:30.138261Z"
    }
   },
   "outputs": [
    {
     "data": {
      "text/plain": [
       "array([[0., 0.],\n",
       "       [0., 1.],\n",
       "       [1., 0.],\n",
       "       [1., 1.]])"
      ]
     },
     "execution_count": 4,
     "metadata": {},
     "output_type": "execute_result"
    }
   ],
   "source": [
    "X = np.array([[0.0, 0.0],\n",
    "              [0.0, 1.0],\n",
    "              [1.0, 0.0],\n",
    "              [1.0, 1.0]])\n",
    "X"
   ]
  },
  {
   "cell_type": "code",
   "execution_count": 5,
   "metadata": {
    "ExecuteTime": {
     "end_time": "2020-12-06T18:09:30.952882Z",
     "start_time": "2020-12-06T18:09:30.946899Z"
    }
   },
   "outputs": [
    {
     "data": {
      "text/plain": [
       "array([[0.],\n",
       "       [0.],\n",
       "       [0.],\n",
       "       [1.]])"
      ]
     },
     "execution_count": 5,
     "metadata": {},
     "output_type": "execute_result"
    }
   ],
   "source": [
    "y = np.array([[0.0], [0.0], [0.0], [1.0]])\n",
    "y"
   ]
  },
  {
   "cell_type": "markdown",
   "metadata": {},
   "source": [
    "# 2 - CREATE WEIGHT TENSOR VARIABLE"
   ]
  },
  {
   "cell_type": "code",
   "execution_count": 6,
   "metadata": {
    "ExecuteTime": {
     "end_time": "2020-12-06T18:09:34.047644Z",
     "start_time": "2020-12-06T18:09:33.704565Z"
    }
   },
   "outputs": [
    {
     "data": {
      "text/plain": [
       "tensorflow.python.ops.variables.RefVariable"
      ]
     },
     "execution_count": 6,
     "metadata": {},
     "output_type": "execute_result"
    }
   ],
   "source": [
    "W = tf.Variable(tf.zeros([2, 1], dtype = tf.float64))\n",
    "type(W)"
   ]
  },
  {
   "cell_type": "markdown",
   "metadata": {},
   "source": [
    "# 3 - CREATE ACTIVATION STEP FUNCTION"
   ]
  },
  {
   "cell_type": "code",
   "execution_count": 7,
   "metadata": {
    "ExecuteTime": {
     "end_time": "2020-12-06T18:09:35.030994Z",
     "start_time": "2020-12-06T18:09:35.025013Z"
    }
   },
   "outputs": [],
   "source": [
    "def step(x):\n",
    "    return tf.cast(tf.to_float(tf.math.greater_equal(x, 1)), tf.float64)"
   ]
  },
  {
   "cell_type": "markdown",
   "metadata": {},
   "source": [
    "# 4 - CREATE OUTPUT LAYER"
   ]
  },
  {
   "cell_type": "code",
   "execution_count": 8,
   "metadata": {
    "ExecuteTime": {
     "end_time": "2020-12-06T18:09:36.045060Z",
     "start_time": "2020-12-06T18:09:36.037119Z"
    }
   },
   "outputs": [],
   "source": [
    "# multiplies input variable by weight variable\n",
    "camada_saida = tf.matmul(X, W)"
   ]
  },
  {
   "cell_type": "markdown",
   "metadata": {},
   "source": [
    "# 5 - CREATE ACTIVATION IN OUTPUT LAYER"
   ]
  },
  {
   "cell_type": "code",
   "execution_count": 9,
   "metadata": {
    "ExecuteTime": {
     "end_time": "2020-12-06T18:09:37.075820Z",
     "start_time": "2020-12-06T18:09:37.061856Z"
    }
   },
   "outputs": [
    {
     "name": "stdout",
     "output_type": "stream",
     "text": [
      "WARNING:tensorflow:From <ipython-input-7-e49afee6d113>:2: to_float (from tensorflow.python.ops.math_ops) is deprecated and will be removed in a future version.\n",
      "Instructions for updating:\n",
      "Use `tf.cast` instead.\n"
     ]
    }
   ],
   "source": [
    "camada_saida_ativacao = step(camada_saida)"
   ]
  },
  {
   "cell_type": "markdown",
   "metadata": {},
   "source": [
    "# 6 - GET ERROR VALUE"
   ]
  },
  {
   "cell_type": "code",
   "execution_count": 10,
   "metadata": {
    "ExecuteTime": {
     "end_time": "2020-12-06T18:09:38.138620Z",
     "start_time": "2020-12-06T18:09:38.130675Z"
    }
   },
   "outputs": [],
   "source": [
    "erro = tf.subtract(y, camada_saida_ativacao)"
   ]
  },
  {
   "cell_type": "markdown",
   "metadata": {},
   "source": [
    "# 7 - UPDATE WEIGHT VALUE"
   ]
  },
  {
   "cell_type": "code",
   "execution_count": 11,
   "metadata": {
    "ExecuteTime": {
     "end_time": "2020-12-06T18:09:39.189713Z",
     "start_time": "2020-12-06T18:09:39.179741Z"
    }
   },
   "outputs": [],
   "source": [
    "# peso(n +1) = peso(n) + ( taxa_aprendizagem * entrada * erro )\n",
    "\n",
    "delta = tf.matmul(X, erro, transpose_a = True) # entrada * erro\n",
    "treinamento = tf.assign(W, tf.add(W, tf.multiply(delta, 0.1))) # peso(n) + (delta * taxa_aprendizagem)"
   ]
  },
  {
   "cell_type": "markdown",
   "metadata": {},
   "source": [
    "# 8 - RUN TENSORFLOW"
   ]
  },
  {
   "cell_type": "code",
   "execution_count": 12,
   "metadata": {
    "ExecuteTime": {
     "end_time": "2020-12-06T18:09:39.793629Z",
     "start_time": "2020-12-06T18:09:39.789623Z"
    }
   },
   "outputs": [],
   "source": [
    "init = tf.global_variables_initializer()"
   ]
  },
  {
   "cell_type": "code",
   "execution_count": 13,
   "metadata": {
    "ExecuteTime": {
     "end_time": "2020-12-06T18:09:43.476472Z",
     "start_time": "2020-12-06T18:09:41.893721Z"
    }
   },
   "outputs": [
    {
     "name": "stdout",
     "output_type": "stream",
     "text": [
      "\n",
      "\n",
      "Época: 1  Erro:  1.0\n",
      "Época: 2  Erro:  1.0\n",
      "Época: 3  Erro:  1.0\n",
      "Época: 4  Erro:  1.0\n",
      "Época: 5  Erro:  1.0\n",
      "Época: 6  Erro:  0.0\n"
     ]
    }
   ],
   "source": [
    "with tf.Session() as sess:\n",
    "    sess.run(init)\n",
    "    #print(sess.run(W))\n",
    "    #print(sess.run(camada_saida))\n",
    "    \n",
    "    #print(sess.run(tf.to_float(tf.math.greater_equal(1, 1))))\n",
    "    #print(sess.run(step(1)))\n",
    "    #print('\\n')\n",
    "    #print(sess.run(camada_saida_ativacao))\n",
    "    print('\\n')\n",
    "    #print(sess.run(erro))\n",
    "    #print(X)\n",
    "    #print('\\n')\n",
    "    #print(sess.run(tf.transpose(X)))\n",
    "    #print(sess.run(treinamento))\n",
    "    epoca = 0\n",
    "    for i in range(15):\n",
    "        epoca += 1\n",
    "        erro_total, _ = sess.run([erro, treinamento])\n",
    "        erro_soma = tf.reduce_sum(erro_total)\n",
    "        #print(erro_total)\n",
    "        print('Época:', epoca, ' Erro: ', sess.run(erro_soma))\n",
    "        if erro_soma.eval() == 0.0:\n",
    "            break\n",
    "    W_final = sess.run(W)\n"
   ]
  },
  {
   "cell_type": "code",
   "execution_count": 14,
   "metadata": {
    "ExecuteTime": {
     "end_time": "2020-12-06T18:09:49.431079Z",
     "start_time": "2020-12-06T18:09:49.424098Z"
    }
   },
   "outputs": [
    {
     "data": {
      "text/plain": [
       "array([[0.5],\n",
       "       [0.5]])"
      ]
     },
     "execution_count": 14,
     "metadata": {},
     "output_type": "execute_result"
    }
   ],
   "source": [
    "W_final"
   ]
  },
  {
   "cell_type": "code",
   "execution_count": 15,
   "metadata": {
    "ExecuteTime": {
     "end_time": "2020-12-06T18:09:54.784432Z",
     "start_time": "2020-12-06T18:09:54.763483Z"
    }
   },
   "outputs": [
    {
     "name": "stdout",
     "output_type": "stream",
     "text": [
      "[[0.]\n",
      " [0.]\n",
      " [0.]\n",
      " [1.]]\n"
     ]
    }
   ],
   "source": [
    "# teste\n",
    "camada_saida_teste = tf.matmul(X, W_final)\n",
    "camada_saida_ativacao_teste = step(camada_saida_teste)\n",
    "with tf.Session() as sess:\n",
    "    sess.run(init)\n",
    "    print(sess.run(camada_saida_ativacao_teste))"
   ]
  }
 ],
 "metadata": {
  "kernelspec": {
   "display_name": "Python 3",
   "language": "python",
   "name": "python3"
  },
  "language_info": {
   "codemirror_mode": {
    "name": "ipython",
    "version": 3
   },
   "file_extension": ".py",
   "mimetype": "text/x-python",
   "name": "python",
   "nbconvert_exporter": "python",
   "pygments_lexer": "ipython3",
   "version": "3.7.9"
  }
 },
 "nbformat": 4,
 "nbformat_minor": 2
}
